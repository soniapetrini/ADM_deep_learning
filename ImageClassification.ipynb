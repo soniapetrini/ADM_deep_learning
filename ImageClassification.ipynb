{
  "cells": [
    {
      "cell_type": "markdown",
      "metadata": {
        "id": "view-in-github",
        "colab_type": "text"
      },
      "source": [
        "<a href=\"https://colab.research.google.com/github/soniapetrini/ADM_deep_learning/blob/main/ImageClassification.ipynb\" target=\"_parent\"><img src=\"https://colab.research.google.com/assets/colab-badge.svg\" alt=\"Open In Colab\"/></a>"
      ]
    },
    {
      "cell_type": "markdown",
      "source": [
        "# Deep Learning: image classification\n",
        "## Comics VS Real faces"
      ],
      "metadata": {
        "id": "tkdZNStR3YlT"
      }
    },
    {
      "cell_type": "code",
      "execution_count": 1,
      "metadata": {
        "colab": {
          "base_uri": "https://localhost:8080/"
        },
        "id": "hlRGkG7rdSv4",
        "outputId": "368d775e-6e1d-4d2e-a7d9-463c865d2a3f"
      },
      "outputs": [
        {
          "output_type": "stream",
          "name": "stdout",
          "text": [
            "Looking in indexes: https://pypi.org/simple, https://us-python.pkg.dev/colab-wheels/public/simple/\n",
            "Collecting opendatasets\n",
            "  Downloading opendatasets-0.1.22-py3-none-any.whl (15 kB)\n",
            "Requirement already satisfied: click in /usr/local/lib/python3.7/dist-packages (from opendatasets) (7.1.2)\n",
            "Requirement already satisfied: kaggle in /usr/local/lib/python3.7/dist-packages (from opendatasets) (1.5.12)\n",
            "Requirement already satisfied: tqdm in /usr/local/lib/python3.7/dist-packages (from opendatasets) (4.64.0)\n",
            "Requirement already satisfied: python-slugify in /usr/local/lib/python3.7/dist-packages (from kaggle->opendatasets) (6.1.2)\n",
            "Requirement already satisfied: python-dateutil in /usr/local/lib/python3.7/dist-packages (from kaggle->opendatasets) (2.8.2)\n",
            "Requirement already satisfied: urllib3 in /usr/local/lib/python3.7/dist-packages (from kaggle->opendatasets) (1.24.3)\n",
            "Requirement already satisfied: six>=1.10 in /usr/local/lib/python3.7/dist-packages (from kaggle->opendatasets) (1.15.0)\n",
            "Requirement already satisfied: certifi in /usr/local/lib/python3.7/dist-packages (from kaggle->opendatasets) (2022.5.18.1)\n",
            "Requirement already satisfied: requests in /usr/local/lib/python3.7/dist-packages (from kaggle->opendatasets) (2.23.0)\n",
            "Requirement already satisfied: text-unidecode>=1.3 in /usr/local/lib/python3.7/dist-packages (from python-slugify->kaggle->opendatasets) (1.3)\n",
            "Requirement already satisfied: chardet<4,>=3.0.2 in /usr/local/lib/python3.7/dist-packages (from requests->kaggle->opendatasets) (3.0.4)\n",
            "Requirement already satisfied: idna<3,>=2.5 in /usr/local/lib/python3.7/dist-packages (from requests->kaggle->opendatasets) (2.10)\n",
            "Installing collected packages: opendatasets\n",
            "Successfully installed opendatasets-0.1.22\n"
          ]
        }
      ],
      "source": [
        "!pip install opendatasets"
      ]
    },
    {
      "cell_type": "code",
      "execution_count": 2,
      "metadata": {
        "id": "kcWswiZ1dUba"
      },
      "outputs": [],
      "source": [
        "import opendatasets as od\n",
        "import random\n",
        "import pandas as pd\n",
        "import numpy as np\n",
        "import tensorflow as tf\n",
        "import csv \n",
        "import time\n",
        "import sys\n",
        "from tensorflow.keras.models import Sequential\n",
        "from tensorflow.keras.layers import Dense, Dropout, Activation, Flatten, Conv2D, MaxPooling2D, AveragePooling2D\n",
        "\n",
        "import matplotlib.pyplot as plt\n",
        "import os\n",
        "from tensorflow import keras\n",
        "\n",
        "import cv2\n",
        "from sklearn.model_selection import train_test_split\n",
        "import pickle\n",
        "import datetime\n",
        "from multiprocessing import Pool\n",
        "from google.colab import files"
      ]
    },
    {
      "cell_type": "markdown",
      "source": [
        "Insert your Kaggle credentials to download the data."
      ],
      "metadata": {
        "id": "pXHMBCxb3lUp"
      }
    },
    {
      "cell_type": "code",
      "execution_count": 3,
      "metadata": {
        "colab": {
          "base_uri": "https://localhost:8080/"
        },
        "id": "a3UFTJpNdWq0",
        "outputId": "235a4373-eb48-4fe1-c047-ee59e317958e"
      },
      "outputs": [
        {
          "output_type": "stream",
          "name": "stdout",
          "text": [
            "Please provide your Kaggle credentials to download this dataset. Learn more: http://bit.ly/kaggle-creds\n",
            "Your Kaggle username: soniapetrini\n",
            "Your Kaggle Key: ··········\n",
            "Downloading comic-faces-paired-synthetic-v2.zip to ./comic-faces-paired-synthetic-v2\n"
          ]
        },
        {
          "output_type": "stream",
          "name": "stderr",
          "text": [
            "100%|██████████| 2.18G/2.18G [00:18<00:00, 125MB/s]\n"
          ]
        },
        {
          "output_type": "stream",
          "name": "stdout",
          "text": [
            "\n"
          ]
        }
      ],
      "source": [
        "od.download('https://www.kaggle.com/datasets/defileroff/comic-faces-paired-synthetic-v2')"
      ]
    },
    {
      "cell_type": "markdown",
      "metadata": {
        "id": "tWIL6HXlnlai"
      },
      "source": [
        "Our first step is to collect all the paths annotated with the related label in a dictionary, and to split them into training, validation, and test set. "
      ]
    },
    {
      "cell_type": "code",
      "execution_count": 4,
      "metadata": {
        "id": "hUp90g74fV5V"
      },
      "outputs": [],
      "source": [
        "# preparation\n",
        "common_dir = 'comic-faces-paired-synthetic-v2/face2comics_v2.0.0_by_Sxela/face2comics_v2.0.0_by_Sxela/'\n",
        "classes = ['comics','faces']\n",
        "\n",
        "# paths to all data\n",
        "paths = {}    \n",
        "for cl in classes:\n",
        "  for f in os.listdir(common_dir+cl):\n",
        "    paths[f'{common_dir}{cl}/{f}'] = classes.index(cl)\n",
        "\n",
        "# labelled dataframe\n",
        "data_df = pd.DataFrame.from_dict(paths, 'index', columns = ['label'])\n",
        "\n",
        "# shuffle and split paths and labels\n",
        "tf.random.set_seed(42)\n",
        "data_df.sample(frac=1)\n",
        "X = data_df.index\n",
        "Y = data_df['label']"
      ]
    },
    {
      "cell_type": "code",
      "execution_count": 5,
      "metadata": {
        "id": "_nrOlIJ4ot6S"
      },
      "outputs": [],
      "source": [
        "# split in train and test\n",
        "paths_train_all, paths_test, Y_train_all, Y_test = train_test_split(X, Y, test_size=0.3)\n",
        "# split train in train and valid\n",
        "paths_train, paths_valid, Y_train, Y_valid       = train_test_split(paths_train_all, Y_train_all, test_size=0.3)"
      ]
    },
    {
      "cell_type": "markdown",
      "metadata": {
        "id": "1iMXGbDLq6_P"
      },
      "source": [
        "# Image transformation\n",
        "The original images have size = 1024x1024 and are in color, the typical approach involves reducing RGB colors to gray, and rescale the gray tones between 0 and 1. We start with resizing the images to 64x64, and once we obtain a good performance we can try to work with a lower image resolution to see how it impacts the model.\n"
      ]
    },
    {
      "cell_type": "code",
      "execution_count": 6,
      "metadata": {
        "id": "FXfZl9RrfV0o"
      },
      "outputs": [],
      "source": [
        "def convert_paths_to_normalized_X(paths, size):\n",
        "  X = []\n",
        "  for p in paths:\n",
        "    image   = cv2.imread(p, cv2.IMREAD_GRAYSCALE)                   # load image in greyscale\n",
        "    resized = cv2.resize(image, size)/255                           # resize and normalize grey colors\n",
        "    X.append(resized)\n",
        "\n",
        "  return np.array(X).reshape(-1, size[0], size[1], 1)\n",
        "\n",
        "size = (64,64)"
      ]
    },
    {
      "cell_type": "markdown",
      "metadata": {
        "id": "0L2CEo-oyh8a"
      },
      "source": [
        "Now we would like to know how much memory space do these objects use, as we are now dealing with \"only\" 2 GB of data, but if we want our programme to scale up we need to take both __time__ and __space__ into account. Indeed,processing an image takes some time, and thus we would like to only do this operation once, on all training, validation, and test data. However, we do not want to overload the memory, so, we first transform the validation set, which is the smallest of the three, and check its size in memory.\n",
        "\n",
        "The set takes approximately 0,000152 MB, meaning that we can safely transform once also test and training sets without a memory overhead."
      ]
    },
    {
      "cell_type": "code",
      "execution_count": 8,
      "metadata": {
        "colab": {
          "base_uri": "https://localhost:8080/"
        },
        "id": "WKKjCKXSx68I",
        "outputId": "f2627b12-a94e-4be2-c069-ec3da09012f6"
      },
      "outputs": [
        {
          "output_type": "execute_result",
          "data": {
            "text/plain": [
              "152"
            ]
          },
          "metadata": {},
          "execution_count": 8
        }
      ],
      "source": [
        "# transform all valid paths and labels in arrays\n",
        "X_valid = convert_paths_to_normalized_X(paths_valid, size)                \n",
        "Y_valid = np.array(Y_valid)\n",
        "sys.getsizeof(X_valid)"
      ]
    },
    {
      "cell_type": "code",
      "execution_count": 9,
      "metadata": {
        "id": "1nyviqpFgq4b"
      },
      "outputs": [],
      "source": [
        "X_train  = convert_paths_to_normalized_X(paths_train, size)\n",
        "Y_train  = np.array(Y_train)\n",
        "X_test   = convert_paths_to_normalized_X(paths_test, size)\n",
        "Y_test   = np.array(Y_test)"
      ]
    },
    {
      "cell_type": "code",
      "execution_count": 10,
      "metadata": {
        "colab": {
          "base_uri": "https://localhost:8080/"
        },
        "id": "u03MS8Q36Pj2",
        "outputId": "5faf5e8c-d9a5-4bd7-cd82-d4b586523972"
      },
      "outputs": [
        {
          "output_type": "stream",
          "name": "stdout",
          "text": [
            "(9800, 64, 64, 1)\n",
            "(9800,)\n",
            "(4200, 64, 64, 1)\n",
            "(4200,)\n",
            "(6000, 64, 64, 1)\n",
            "(6000,)\n"
          ]
        }
      ],
      "source": [
        "# check all shapes\n",
        "print(X_train.shape)\n",
        "print(Y_train.shape)\n",
        "print(X_valid.shape)\n",
        "print(Y_valid.shape)\n",
        "print(X_test.shape)\n",
        "print(Y_test.shape)"
      ]
    },
    {
      "cell_type": "markdown",
      "metadata": {
        "id": "_0nFSd3k054H"
      },
      "source": [
        "# First model design\n",
        "\n",
        "We can now work on the design of our architecture. Given the high number of possible tuning parameters in neural networks, we try to get an understanding of how different parameters combinations influence performance through a random search. The parameters we explore are:\n",
        "\n",
        "\n",
        "*   size of the first Dense layer\n",
        "*   type of pooling \n",
        "*   number of convolutional layers\n",
        "\n",
        "Since this is an explorative search, we perform it on a subset of the data. Moreover, we parallelize the training and validation of the 6 nets\n",
        "\n"
      ]
    },
    {
      "cell_type": "code",
      "source": [
        "# ~ FUNCTIONS ~\n",
        "\n",
        "# define model function\n",
        "def build_model(input_shape, first_layer_size, which_pool, n_conv):\n",
        "\n",
        "  model = Sequential()\n",
        "  model.add(Dense(first_layer_size, activation = 'relu',input_shape = input_shape))             # fixed Dense layer\n",
        "\n",
        "  if (which_pool == 'max'):                                                                     # pooling, max or average?\n",
        "    pool_layer = MaxPooling2D(pool_size=(2, 2))\n",
        "  else:\n",
        "    pool_layer = AveragePooling2D(pool_size=(2, 2))\n",
        "\n",
        "  if ( n_conv in [1,2] ):                                                                       # add convolution layers \n",
        "    model.add(Conv2D(32, (3, 3)))\n",
        "    model.add(pool_layer)\n",
        "  if ( n_conv in [2] ): \n",
        "    model.add(Conv2D(64, (3, 3)))\n",
        "    model.add(pool_layer)\n",
        "\n",
        "  model.add(Flatten())\n",
        "  model.add(Dense(1, activation = 'sigmoid'))                                                   # fixed final classification layer\n",
        "\n",
        "  return model\n",
        "\n",
        "\n",
        "# add f-score to history\n",
        "def add_fscore(history):\n",
        "  n_epochs = len(history['recall'])\n",
        "  fscores     = []\n",
        "  val_fscores = []\n",
        "  for i in range(n_epochs):\n",
        "    for which in ['val_','']:\n",
        "      precision = history[f'{which}precision'][i]\n",
        "      recall    = history[f'{which}recall'][i]\n",
        "      fscore =  2 * (precision * recall) / (precision + recall)\n",
        "      if which == '':\n",
        "        fscores.append(fscore)\n",
        "      else:\n",
        "        val_fscores.append(fscore)\n",
        "\n",
        "  history['f-score'] = fscores\n",
        "  history['val_f-score'] = val_fscores\n",
        "  return history\n",
        "\n",
        "\n",
        "# plot selected model's history\n",
        "def plot_history(net_name):\n",
        "  history_ = pickle.load(open('/trainHistoryDict'+ net_name, \"rb\"))\n",
        "  history_ = add_fscore(history_)\n",
        "\n",
        "  f = plt.figure(figsize=(10,6))\n",
        "  ax = f.add_subplot(121)\n",
        "  ax2 = f.add_subplot(122)\n",
        "\n",
        "  # loss\n",
        "  ax.plot(history_['loss'])\n",
        "  ax.plot(history_['val_loss'])\n",
        "  ax.grid(True)\n",
        "  ax.set_title(\"loss\")\n",
        "  ax.legend(['train', 'validation'], loc='upper right')\n",
        "\n",
        "  # f-score\n",
        "  ax2.plot(history_['f-score'])\n",
        "  ax2.plot(history_['val_f-score'])\n",
        "  ax2.grid(True)\n",
        "  ax2.set_title(\"f-score\")\n",
        "  ax2.legend(['train', 'validation'], loc='lower right')\n"
      ],
      "metadata": {
        "id": "6-8Uc6binQcn"
      },
      "execution_count": 7,
      "outputs": []
    },
    {
      "cell_type": "code",
      "source": [
        "# PERFORM RANDOM SEARCH IN PARALLEL!  \n",
        "\n",
        "# subset data\n",
        "X_train_s = X_train[:6000]\n",
        "Y_train_s = Y_train[:6000]\n",
        "X_valid_s = X_valid[:2000]\n",
        "Y_valid_s = Y_valid[:2000]\n",
        "input_shape       = X_train_s.shape[1:]\n",
        "\n",
        "# search space\n",
        "first_layer_sizes = [8, 16, 32]\n",
        "which_pools       = ['average', 'max']\n",
        "n_convs           = [1, 2]\n",
        "\n",
        "# epochs\n",
        "n_epochs = 25\n",
        "\n",
        "# define list of unique args combinations\n",
        "nets_names  = []\n",
        "nets_args   = []\n",
        "for pool in which_pools:\n",
        "  while(len([el for el in nets_args if pool in el]) < 3):\n",
        "    first_layer_size = random.choice(first_layer_sizes)\n",
        "    which_pool       = random.choice(which_pools)\n",
        "    n_conv           = random.choice(n_convs)\n",
        "    net_name = f'{first_layer_size}_{which_pool}_{n_conv}'\n",
        "    if net_name not in nets_names: \n",
        "      nets_names.append(net_name)\n",
        "      nets_args.append([input_shape, first_layer_size, which_pool, n_conv, net_name])\n",
        "print(nets_names)\n",
        "\n",
        "# define function\n",
        "def train_and_validate(arguments):\n",
        "\n",
        "   input_shape, first_layer_size, which_pool, n_conv, net_name = arguments\n",
        "\n",
        "   # build model\n",
        "   model = build_model(input_shape, first_layer_size, which_pool, n_conv)\n",
        "   model.compile(loss='binary_crossentropy', optimizer='adam', metrics=['Precision','Recall'])\n",
        "\n",
        "   # train and validate it\n",
        "   start = datetime.datetime.now()\n",
        "   print(start)\n",
        "   history = model.fit(X_train_s, Y_train_s, batch_size=50, epochs=n_epochs, validation_data=(X_valid_s,Y_valid_s))\n",
        "   end = datetime.datetime.now()\n",
        "   print(end)\n",
        "\n",
        "   # write times to file\n",
        "   filename = 'times.csv'\n",
        "   file_exists = os.path.isfile(filename)\n",
        "   with open(filename, \"a\") as time_f:\n",
        "     writer = csv.DictWriter(time_f, fieldnames=['net','time'])\n",
        "     if not file_exists:\n",
        "       writer.writeheader()\n",
        "     writer.writerow({'net':net_name, 'time':end-start})\n",
        "\n",
        "   # write history to file\n",
        "   with open('/trainHistoryDict' + net_name, 'wb') as history_f:\n",
        "           pickle.dump(history.history, history_f)\n",
        "         \n",
        "\n",
        "def run_parallel(nets_args):\n",
        "    pool = Pool(processes=len(nets_args))\n",
        "    pool.map(train_and_validate, nets_args)\n",
        "\n",
        "# run \n",
        "run_parallel(nets_args)"
      ],
      "metadata": {
        "id": "KrzFCj918x84"
      },
      "execution_count": null,
      "outputs": []
    },
    {
      "cell_type": "code",
      "source": [
        "3 # PLOT TIME VS LAST f-score\n",
        "\n",
        "# load df with names and times\n",
        "#nets_df = pd.read_csv('times.csv')\n",
        "nets_df = pd.read_csv('random_search_scores.csv')\n",
        "nets_df['time'] = nets_df['time'].str[:7]\n",
        "\n",
        "\n",
        "# # access last fscore\n",
        "# last_train_fscores  = []\n",
        "# last_val_fscores  = []\n",
        "# for i, name in enumerate(nets_df['net']):\n",
        "#     history = pickle.load(open('/trainHistoryDict'+ name, \"rb\"))\n",
        "#     history = add_fscore(history)\n",
        "#     last_val_fscores.append(history['val_f-score'][n_epochs-1])\n",
        "#     last_train_fscores.append(history['f-score'][n_epochs-1])\n",
        "\n",
        "# nets_df['val_f-score'] = last_val_fscores\n",
        "# nets_df['train_f-score'] = last_train_fscores\n",
        "# nets_df\n",
        "\n",
        "# # save df with results\n",
        "# nets_df.to_csv('random_search_scores.csv')\n",
        "# files.download(\"random_search_scores.csv\" )\n",
        "\n",
        "\n",
        "# plot!\n",
        "fig, ax = plt.subplots()\n",
        "\n",
        "ax.scatter(nets_df['val_f-score'], nets_df['time'])\n",
        "ax.scatter(nets_df['train_f-score'], nets_df['time'])\n",
        "ax.set_title(\"time VS f-score\")\n",
        "ax.set_xlabel(\"f-score\")\n",
        "ax.set_ylabel(\"elapsed time\")\n",
        "ax.legend(['validation', 'train'])\n",
        "\n",
        "for i, txt in enumerate(nets_df['net']):\n",
        "    ax.annotate(txt, (nets_df['val_f-score'][i], nets_df['time'][i]))\n",
        "    ax.annotate(txt, (nets_df['train_f-score'][i], nets_df['time'][i]))\n",
        "\n",
        "plt.savefig('random_search_plot.pdf',bbox_inches = \"tight\")"
      ],
      "metadata": {
        "colab": {
          "base_uri": "https://localhost:8080/",
          "height": 295
        },
        "id": "_olGNY76N6XQ",
        "outputId": "e6d91d2f-a82d-4912-eafd-66936d6cd895"
      },
      "execution_count": 3,
      "outputs": [
        {
          "output_type": "display_data",
          "data": {
            "text/plain": [
              "<Figure size 432x288 with 1 Axes>"
            ],
            "image/png": "[encoded data removed]"
          },
          "metadata": {
            "needs_background": "light"
          }
        }
      ]
    },
    {
      "cell_type": "markdown",
      "source": [
        "'Average' pooling seems to overall perform worse than 'max', even if when fixing the number of neurons of the first Dense layer to 32, 'average' pooling with 1 convolutional layer yields virtually the same score as 'max' with 2 convolutional layers, and in less time. However, this worsening in performance with the addition of one convolutional layer is also observed when 'average' pooling is fixed and the first layer has 16 neurons. \n",
        "\n",
        "If we now focus on the nets with higher f-score on validation (16_max_1 and 8_max_2), we see how by balancing the neurons in the first layer and the number of convolutional layers they obtain the same f-score. Thus, the choice criterion that we use is based on elapsed time, which is lower for '16_max_1', meaning that we can obtain the same performance in less time by increasing the first layer neurons rather than the number of convolutional layers.\n"
      ],
      "metadata": {
        "id": "aAlssdXngF-6"
      }
    },
    {
      "cell_type": "markdown",
      "source": [
        "## Effect of size of performance\n",
        "Thus, since with 16 neurons in the first dense layer, max pooling, and 1 convolutional layer we already obtain a very high accuracy, we can reduce the images to a smaller size, to see whether we can further reduce the space required to store the inputs in memory while keeping the same level of performance. This time we use the whole training set, and train for a longer time."
      ],
      "metadata": {
        "id": "XFkL_WwQNWcW"
      }
    },
    {
      "cell_type": "code",
      "source": [
        "# SEARCH ON SIZE WITH FIXED MODEL\n",
        "list_sizes = [(32,32), (64,64)]\n",
        "\n",
        "first_layer_size = 16\n",
        "which_pool = 'max'\n",
        "n_conv = 1\n",
        "n_epochs = 30\n",
        "\n",
        "def resize_train_and_validate(size):\n",
        "  net_name = f'{first_layer_size}_{which_pool}_{n_conv}_{size[0]}'\n",
        "\n",
        "  # resize images\n",
        "  X_train_f   = convert_paths_to_normalized_X(paths_train, size)\n",
        "  Y_train_f   = np.array(Y_train)\n",
        "  X_valid_f   = convert_paths_to_normalized_X(paths_valid, size)\n",
        "  Y_valid_f   = np.array(Y_valid)\n",
        "\n",
        "  # build model\n",
        "  input_shape = X_train_f.shape[1:]\n",
        "  model = build_model([input_shape,first_layer_size,which_pool,n_conv])\n",
        "  model.compile(loss='binary_crossentropy', optimizer='adam', metrics=['Precision','Recall'])\n",
        "\n",
        "  # train and validate it\n",
        "  start = time.time()\n",
        "  history = model.fit(X_train_f, Y_train_f, batch_size=35,\n",
        "                      epochs=n_epochs, validation_data=(X_valid_f,Y_valid_f))\n",
        "  end = time.time()\n",
        "\n",
        "  # write times to file\n",
        "  filename = 'times.csv'\n",
        "  file_exists = os.path.isfile(filename)\n",
        "\n",
        "  with open(filename, \"a\") as time_f:\n",
        "    writer = csv.DictWriter(time_f, fieldnames=['net','time'])\n",
        "    if not file_exists:\n",
        "      writer.writeheader()\n",
        "    writer.writerow({'net':net_name, 'time':end-start})\n",
        "\n",
        "  # write history to file\n",
        "  with open('/trainHistoryDict' + net_name, 'wb') as history_f:\n",
        "          pickle.dump(history.history, history_f)\n",
        "\n",
        "\n",
        "# run training in parallel\n",
        "def run_parallel(list_sizes):\n",
        "    pool = Pool(processes=len(list_sizes))\n",
        "    pool.map(resize_train_and_validate, list_sizes)\n",
        "\n",
        "run_parallel(list_sizes)"
      ],
      "metadata": {
        "id": "Lsq4RVOD8Too"
      },
      "execution_count": 56,
      "outputs": []
    },
    {
      "cell_type": "code",
      "source": [
        "# load df with names and times\n",
        "nets_df = pd.read_csv('times.csv')\n",
        "\n",
        "# access last fscore\n",
        "last_val_fscores  = []\n",
        "last_train_fscores  = []\n",
        "for i, name in enumerate(nets_df['net']):\n",
        "    history = pickle.load(open('/trainHistoryDict'+ name, \"rb\"))\n",
        "    history = add_fscore(history)\n",
        "    last_val_fscores.append(history['val_f-score'][n_epochs-1])\n",
        "    last_train_fscores.append(history['f-score'][n_epochs-1])\n",
        "\n",
        "nets_df['val_f-score'] = last_val_fscores\n",
        "nets_df['train_f-score'] = last_train_fscores\n",
        "\n",
        "# # save df with results\n",
        "nets_df.to_csv('size_search_scores.csv')\n",
        "files.download(\"size_search_scores.csv\" )\n",
        "\n",
        "# plot!\n",
        "fig, ax = plt.subplots()\n",
        "ax.scatter(nets_df['val_f-score'], nets_df['time'])\n",
        "ax.scatter(nets_df['train_f-score'], nets_df['time'])\n",
        "ax.set_title(\"time VS f-score\")\n",
        "ax.set_xlabel(\"f-score\")\n",
        "ax.set_ylabel(\"elapsed time\")\n",
        "ax.legend(['validation', 'train'])\n",
        "\n",
        "for i, txt in enumerate(nets_df['net']):\n",
        "    ax.annotate(txt, (nets_df['val_f-score'][i], nets_df['time'][i]))\n",
        "    ax.annotate(txt, (nets_df['train_f-score'][i], nets_df['time'][i]))\n",
        "\n",
        "plt.savefig('size_search_plot.pdf', bbox_inches = \"tight\")"
      ],
      "metadata": {
        "colab": {
          "base_uri": "https://localhost:8080/",
          "height": 295
        },
        "id": "TGG6OFSDz0I8",
        "outputId": "a3f4b800-bf7f-4ed3-c2c5-a33498e44a6d"
      },
      "execution_count": 19,
      "outputs": [
        {
          "output_type": "display_data",
          "data": {
            "text/plain": [
              "<Figure size 432x288 with 1 Axes>"
            ],
            "image/png": "[encoded data removed]"
          },
          "metadata": {
            "needs_background": "light"
          }
        }
      ]
    },
    {
      "cell_type": "code",
      "source": [
        "# compute time and fscore differences\n",
        "perc_diffs = []\n",
        "for col in ['time','val_f-score']:\n",
        "  perc_diff = ( nets_df[col][1] - nets_df[col][0] ) / nets_df[col][1]\n",
        "  perc_diffs.append(round(perc_diff,3))\n",
        "\n",
        "print(f'By reducing size from (64,64) to (32,32), we reduce training time by {perc_diffs[0]} %, while losing only {perc_diffs[1]} % in f-score')"
      ],
      "metadata": {
        "colab": {
          "base_uri": "https://localhost:8080/"
        },
        "id": "fAqlV3MrwWb0",
        "outputId": "22910056-4af6-4bc9-c49a-2607c150d5c5"
      },
      "execution_count": 80,
      "outputs": [
        {
          "output_type": "stream",
          "name": "stdout",
          "text": [
            "By reducing size from (64,64) to (32,32), we reduce training time by 0.549 %, while losing only 0.002 % in f-score\n"
          ]
        }
      ]
    },
    {
      "cell_type": "code",
      "source": [
        "# save plots of histories\n",
        "for i, name in enumerate(nets_df['net']):\n",
        "    plot_history(name)\n",
        "    plt.savefig(f'history_{name}.pdf')"
      ],
      "metadata": {
        "colab": {
          "base_uri": "https://localhost:8080/",
          "height": 763
        },
        "id": "lSzzFlGkufKB",
        "outputId": "0ab70180-5c1f-4ada-df18-075f35ead74e"
      },
      "execution_count": 62,
      "outputs": [
        {
          "output_type": "display_data",
          "data": {
            "text/plain": [
              "<Figure size 720x432 with 2 Axes>"
            ],
            "image/png": "[encoded data removed]"
          },
          "metadata": {
            "needs_background": "light"
          }
        },
        {
          "output_type": "display_data",
          "data": {
            "text/plain": [
              "<Figure size 720x432 with 2 Axes>"
            ],
            "image/png": "[encoded data removed]"
          },
          "metadata": {
            "needs_background": "light"
          }
        }
      ]
    },
    {
      "cell_type": "markdown",
      "source": [
        "## Test the chosen architecture\n",
        "We can now test the best model according to our validation procedure on real unseen data. To do so, we train the model on the whole training set."
      ],
      "metadata": {
        "id": "wUk-QCWwwTnF"
      }
    },
    {
      "cell_type": "code",
      "source": [
        "first_layer_size = 16\n",
        "which_pool       = 'max'\n",
        "n_conv           = 1\n",
        "size             = (32,32)\n",
        "n_epochs         = 30\n",
        "net_name = f'{first_layer_size}_{which_pool}_{n_conv}_{size[0]}'\n",
        "\n",
        "# resize images\n",
        "X_train_f   = convert_paths_to_normalized_X(paths_train_all, size)\n",
        "Y_train_f   = np.array(Y_train_all)\n",
        "X_test_f    = convert_paths_to_normalized_X(paths_test, size)\n",
        "Y_test_f    = np.array(Y_test)"
      ],
      "metadata": {
        "id": "sxApdLY-Orbk"
      },
      "execution_count": 8,
      "outputs": []
    },
    {
      "cell_type": "code",
      "source": [
        "# build model\n",
        "input_shape = X_train_f.shape[1:]\n",
        "model = build_model(input_shape,first_layer_size,which_pool,n_conv)\n",
        "model.compile(loss='binary_crossentropy', optimizer='adam', metrics=['Precision','Recall'])\n",
        "\n",
        "# train it\n",
        "start = datetime.datetime.now()\n",
        "print(f'start training at:{start}')\n",
        "\n",
        "history = model.fit(X_train_f, Y_train_f, batch_size=35, epochs=n_epochs)\n",
        "\n",
        "end   = datetime.datetime.now()\n",
        "print(f'end training at:{end}')\n",
        "\n",
        "# test it!\n",
        "test_scores = model.evaluate(x = X_test_f, y = Y_test_f)"
      ],
      "metadata": {
        "colab": {
          "base_uri": "https://localhost:8080/"
        },
        "id": "3dg4J-2RNQoM",
        "outputId": "2245bf2e-b8ec-45aa-83b7-7e3eef2b33be"
      },
      "execution_count": 27,
      "outputs": [
        {
          "output_type": "stream",
          "name": "stdout",
          "text": [
            "start training at:2022-06-08 08:20:51.023487\n",
            "Epoch 1/30\n",
            "400/400 [==============================] - 26s 64ms/step - loss: 0.1448 - precision: 0.9450 - recall: 0.9449\n",
            "Epoch 2/30\n",
            "400/400 [==============================] - 19s 47ms/step - loss: 0.0437 - precision: 0.9890 - recall: 0.9832\n",
            "Epoch 3/30\n",
            "400/400 [==============================] - 19s 48ms/step - loss: 0.0252 - precision: 0.9937 - recall: 0.9909\n",
            "Epoch 4/30\n",
            "400/400 [==============================] - 20s 49ms/step - loss: 0.0145 - precision: 0.9967 - recall: 0.9960\n",
            "Epoch 5/30\n",
            "400/400 [==============================] - 19s 47ms/step - loss: 0.0114 - precision: 0.9967 - recall: 0.9968\n",
            "Epoch 6/30\n",
            "400/400 [==============================] - 19s 47ms/step - loss: 0.0087 - precision: 0.9978 - recall: 0.9978\n",
            "Epoch 7/30\n",
            "400/400 [==============================] - 19s 47ms/step - loss: 0.0070 - precision: 0.9977 - recall: 0.9986\n",
            "Epoch 8/30\n",
            "400/400 [==============================] - 19s 47ms/step - loss: 0.0036 - precision: 0.9994 - recall: 0.9994\n",
            "Epoch 9/30\n",
            "400/400 [==============================] - 19s 47ms/step - loss: 0.0035 - precision: 0.9991 - recall: 0.9990\n",
            "Epoch 10/30\n",
            "400/400 [==============================] - 19s 48ms/step - loss: 0.0020 - precision: 0.9999 - recall: 0.9999\n",
            "Epoch 11/30\n",
            "400/400 [==============================] - 19s 47ms/step - loss: 0.0030 - precision: 0.9986 - recall: 0.9990\n",
            "Epoch 12/30\n",
            "400/400 [==============================] - 19s 47ms/step - loss: 0.0013 - precision: 0.9999 - recall: 0.9999\n",
            "Epoch 13/30\n",
            "400/400 [==============================] - 19s 47ms/step - loss: 8.1457e-04 - precision: 1.0000 - recall: 1.0000\n",
            "Epoch 14/30\n",
            "400/400 [==============================] - 19s 47ms/step - loss: 3.7523e-04 - precision: 1.0000 - recall: 1.0000\n",
            "Epoch 15/30\n",
            "400/400 [==============================] - 20s 49ms/step - loss: 3.1500e-04 - precision: 1.0000 - recall: 1.0000\n",
            "Epoch 16/30\n",
            "400/400 [==============================] - 19s 47ms/step - loss: 2.2085e-04 - precision: 1.0000 - recall: 1.0000\n",
            "Epoch 17/30\n",
            "400/400 [==============================] - 19s 47ms/step - loss: 1.5603e-04 - precision: 1.0000 - recall: 1.0000\n",
            "Epoch 18/30\n",
            "400/400 [==============================] - 19s 47ms/step - loss: 1.2360e-04 - precision: 1.0000 - recall: 1.0000\n",
            "Epoch 19/30\n",
            "400/400 [==============================] - 19s 47ms/step - loss: 9.1408e-05 - precision: 1.0000 - recall: 1.0000\n",
            "Epoch 20/30\n",
            "400/400 [==============================] - 19s 47ms/step - loss: 7.4160e-05 - precision: 1.0000 - recall: 1.0000\n",
            "Epoch 21/30\n",
            "400/400 [==============================] - 19s 47ms/step - loss: 5.8325e-05 - precision: 1.0000 - recall: 1.0000\n",
            "Epoch 22/30\n",
            "400/400 [==============================] - 19s 47ms/step - loss: 4.6902e-05 - precision: 1.0000 - recall: 1.0000\n",
            "Epoch 23/30\n",
            "400/400 [==============================] - 19s 47ms/step - loss: 3.8369e-05 - precision: 1.0000 - recall: 1.0000\n",
            "Epoch 24/30\n",
            "400/400 [==============================] - 19s 47ms/step - loss: 2.8584e-05 - precision: 1.0000 - recall: 1.0000\n",
            "Epoch 25/30\n",
            "400/400 [==============================] - 19s 47ms/step - loss: 2.2490e-05 - precision: 1.0000 - recall: 1.0000\n",
            "Epoch 26/30\n",
            "400/400 [==============================] - 19s 47ms/step - loss: 1.7036e-05 - precision: 1.0000 - recall: 1.0000\n",
            "Epoch 27/30\n",
            "400/400 [==============================] - 19s 47ms/step - loss: 1.3329e-05 - precision: 1.0000 - recall: 1.0000\n",
            "Epoch 28/30\n",
            "400/400 [==============================] - 19s 47ms/step - loss: 1.0568e-05 - precision: 1.0000 - recall: 1.0000\n",
            "Epoch 29/30\n",
            "400/400 [==============================] - 19s 47ms/step - loss: 8.4583e-06 - precision: 1.0000 - recall: 1.0000\n",
            "Epoch 30/30\n",
            "400/400 [==============================] - 19s 48ms/step - loss: 7.1797e-06 - precision: 1.0000 - recall: 1.0000\n",
            "end training at:2022-06-08 08:30:26.151817\n",
            "188/188 [==============================] - 3s 12ms/step - loss: 0.0055 - precision: 0.9990 - recall: 0.9967\n"
          ]
        }
      ]
    },
    {
      "cell_type": "code",
      "source": [
        "precision = round(test_scores[1], 4)\n",
        "recall    = round(test_scores[2], 4)\n",
        "f_score   = round( 2* ( precision * recall ) / (precision + recall) , 4 )\n",
        "print(f'Test precision :{precision}')\n",
        "print(f'Test recall    :{recall}')\n",
        "print(f'Test f-score   :{f_score}')"
      ],
      "metadata": {
        "colab": {
          "base_uri": "https://localhost:8080/"
        },
        "id": "G5nehyZocgUf",
        "outputId": "810b067f-ad76-43df-a0a3-8b2d680f8407"
      },
      "execution_count": 51,
      "outputs": [
        {
          "output_type": "stream",
          "name": "stdout",
          "text": [
            "Test precision :0.999\n",
            "Test recall    :0.9967\n",
            "Test f-score   :0.9978\n"
          ]
        }
      ]
    }
  ],
  "metadata": {
    "colab": {
      "collapsed_sections": [],
      "name": "ImageClassification.ipynb",
      "provenance": [],
      "authorship_tag": "ABX9TyOodHqzUx3UrEKatvo9FWJX",
      "include_colab_link": true
    },
    "kernelspec": {
      "display_name": "Python 3",
      "name": "python3"
    },
    "language_info": {
      "name": "python"
    }
  },
  "nbformat": 4,
  "nbformat_minor": 0
}