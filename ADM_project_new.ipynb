{
  "cells": [
    {
      "cell_type": "markdown",
      "metadata": {
        "id": "view-in-github",
        "colab_type": "text"
      },
      "source": [
        "<a href=\"https://colab.research.google.com/github/soniapetrini/ADM_deep_learning/blob/main/ADM_project_new.ipynb\" target=\"_parent\"><img src=\"https://colab.research.google.com/assets/colab-badge.svg\" alt=\"Open In Colab\"/></a>"
      ]
    },
    {
      "cell_type": "code",
      "execution_count": null,
      "metadata": {
        "colab": {
          "background_save": true,
          "base_uri": "https://localhost:8080/"
        },
        "id": "hlRGkG7rdSv4",
        "outputId": "35958b67-8a13-4a0b-f6d4-12c5bec5450c"
      },
      "outputs": [
        {
          "name": "stdout",
          "output_type": "stream",
          "text": [
            "Looking in indexes: https://pypi.org/simple, https://us-python.pkg.dev/colab-wheels/public/simple/\n",
            "Collecting opendatasets\n",
            "  Downloading opendatasets-0.1.22-py3-none-any.whl (15 kB)\n",
            "Requirement already satisfied: click in /usr/local/lib/python3.7/dist-packages (from opendatasets) (7.1.2)\n",
            "Requirement already satisfied: kaggle in /usr/local/lib/python3.7/dist-packages (from opendatasets) (1.5.12)\n",
            "Requirement already satisfied: tqdm in /usr/local/lib/python3.7/dist-packages (from opendatasets) (4.64.0)\n",
            "Requirement already satisfied: urllib3 in /usr/local/lib/python3.7/dist-packages (from kaggle->opendatasets) (1.24.3)\n",
            "Requirement already satisfied: python-slugify in /usr/local/lib/python3.7/dist-packages (from kaggle->opendatasets) (6.1.2)\n",
            "Requirement already satisfied: requests in /usr/local/lib/python3.7/dist-packages (from kaggle->opendatasets) (2.23.0)\n",
            "Requirement already satisfied: python-dateutil in /usr/local/lib/python3.7/dist-packages (from kaggle->opendatasets) (2.8.2)\n",
            "Requirement already satisfied: certifi in /usr/local/lib/python3.7/dist-packages (from kaggle->opendatasets) (2022.5.18.1)\n",
            "Requirement already satisfied: six>=1.10 in /usr/local/lib/python3.7/dist-packages (from kaggle->opendatasets) (1.15.0)\n",
            "Requirement already satisfied: text-unidecode>=1.3 in /usr/local/lib/python3.7/dist-packages (from python-slugify->kaggle->opendatasets) (1.3)\n",
            "Requirement already satisfied: idna<3,>=2.5 in /usr/local/lib/python3.7/dist-packages (from requests->kaggle->opendatasets) (2.10)\n",
            "Requirement already satisfied: chardet<4,>=3.0.2 in /usr/local/lib/python3.7/dist-packages (from requests->kaggle->opendatasets) (3.0.4)\n",
            "Installing collected packages: opendatasets\n",
            "Successfully installed opendatasets-0.1.22\n"
          ]
        }
      ],
      "source": [
        "!pip install opendatasets"
      ]
    },
    {
      "cell_type": "code",
      "execution_count": 58,
      "metadata": {
        "id": "kcWswiZ1dUba"
      },
      "outputs": [],
      "source": [
        "import opendatasets as od\n",
        "import random\n",
        "import pandas as pd\n",
        "import numpy as np\n",
        "import tensorflow as tf\n",
        "import csv \n",
        "import time\n",
        "import sys\n",
        "from tensorflow.keras.models import Sequential\n",
        "from tensorflow.keras.layers import Dense, Dropout, Activation, Flatten, Conv2D, MaxPooling2D, AveragePooling2D\n",
        "\n",
        "import matplotlib.pyplot as plt\n",
        "import os\n",
        "from tensorflow import keras\n",
        "\n",
        "import cv2\n",
        "from sklearn.model_selection import train_test_split\n",
        "import pickle"
      ]
    },
    {
      "cell_type": "code",
      "execution_count": null,
      "metadata": {
        "colab": {
          "base_uri": "https://localhost:8080/"
        },
        "id": "a3UFTJpNdWq0",
        "outputId": "0317b2d7-a6e3-4907-f998-26c0c712bc3f"
      },
      "outputs": [
        {
          "name": "stdout",
          "output_type": "stream",
          "text": [
            "Please provide your Kaggle credentials to download this dataset. Learn more: http://bit.ly/kaggle-creds\n",
            "Your Kaggle username: soniapetrini\n",
            "Your Kaggle Key: ··········\n",
            "Downloading comic-faces-paired-synthetic-v2.zip to ./comic-faces-paired-synthetic-v2\n"
          ]
        },
        {
          "name": "stderr",
          "output_type": "stream",
          "text": [
            "100%|██████████| 2.18G/2.18G [00:21<00:00, 107MB/s]\n"
          ]
        },
        {
          "name": "stdout",
          "output_type": "stream",
          "text": [
            "\n"
          ]
        }
      ],
      "source": [
        "od.download('https://www.kaggle.com/datasets/defileroff/comic-faces-paired-synthetic-v2')"
      ]
    },
    {
      "cell_type": "markdown",
      "metadata": {
        "id": "tWIL6HXlnlai"
      },
      "source": [
        "Our first step is to collect all the paths with the related label, and split them into training, validation, and test set. \n",
        "\n",
        "- create paths df\n",
        "- split in train, valid, test\n",
        "- transform valid and test"
      ]
    },
    {
      "cell_type": "code",
      "execution_count": null,
      "metadata": {
        "id": "hUp90g74fV5V"
      },
      "outputs": [],
      "source": [
        "# preparation\n",
        "common_dir = 'comic-faces-paired-synthetic-v2/face2comics_v2.0.0_by_Sxela/face2comics_v2.0.0_by_Sxela/'\n",
        "classes = ['comics','faces']\n",
        "\n",
        "# paths to all data\n",
        "paths = {}    \n",
        "for cl in classes:\n",
        "  for f in os.listdir(common_dir+cl):\n",
        "    paths[f'{common_dir}{cl}/{f}'] = classes.index(cl)\n",
        "\n",
        "# labelled dataframe\n",
        "data_df = pd.DataFrame.from_dict(paths, 'index', columns = ['label'])\n",
        "\n",
        "# shuffle and split paths and labels\n",
        "tf.random.set_seed(42)\n",
        "data_df.sample(frac=1)\n",
        "X = data_df.index\n",
        "Y = data_df['label']"
      ]
    },
    {
      "cell_type": "code",
      "execution_count": null,
      "metadata": {
        "id": "_nrOlIJ4ot6S"
      },
      "outputs": [],
      "source": [
        "# split in train and test\n",
        "paths_train, paths_test, Y_train, Y_test = train_test_split(X, Y, test_size=0.3)\n",
        "# split train in train and valid\n",
        "paths_train, paths_valid, Y_train, Y_valid = train_test_split(paths_train, Y_train, test_size=0.3)"
      ]
    },
    {
      "cell_type": "markdown",
      "metadata": {
        "id": "1iMXGbDLq6_P"
      },
      "source": [
        "# Image transformation\n",
        "The original images have size = 1024x1024 and are in color, the typical approach involves reducing RGB colors to gray, and rescale the gray tones between 0 and 1. Moreover, we can probably work with a lower image resolution, and then play around with it to see how it impacts performance.\n"
      ]
    },
    {
      "cell_type": "code",
      "execution_count": null,
      "metadata": {
        "id": "FXfZl9RrfV0o"
      },
      "outputs": [],
      "source": [
        "size = (64,64)\n",
        "\n",
        "def convert_paths_to_normalized_X(paths, size):\n",
        "  X = []\n",
        "  for p in paths:\n",
        "    image   = cv2.imread(p, cv2.IMREAD_GRAYSCALE)                   # load image in greyscale\n",
        "    resized = cv2.resize(image, size)/255                           # resize and normalize grey colors\n",
        "    X.append(resized)\n",
        "\n",
        "  return np.array(X).reshape(-1, size[0], size[1], 1)\n",
        "\n",
        "# transform all valid paths and labels in arrays\n",
        "X_valid = convert_paths_to_normalized_X(paths_valid, size)                \n",
        "Y_valid = np.array(Y_valid)"
      ]
    },
    {
      "cell_type": "markdown",
      "metadata": {
        "id": "0L2CEo-oyh8a"
      },
      "source": [
        "Now we would like to know how much memory space do these objects use, as we are now dealing with \"only\" 2 GB of data, but if we want our programme to scale up we need to take both __time__ and __space__ into account. Indeed,processing an image takes some time, and thus we would like to only do this operation once, on all training, validation, and test data. However, we do not want to overload the memory, so, we first transform the validation set, which is the smallest of the three, and check its space in memory.\n",
        "\n",
        "The set takes approximately 0,000152 MB, meaning that we can safely transform once also test and training sets, without a memory overhead."
      ]
    },
    {
      "cell_type": "code",
      "execution_count": null,
      "metadata": {
        "colab": {
          "base_uri": "https://localhost:8080/"
        },
        "id": "WKKjCKXSx68I",
        "outputId": "53239445-ca93-4b12-c751-3edd5d057e81"
      },
      "outputs": [
        {
          "data": {
            "text/plain": [
              "152"
            ]
          },
          "execution_count": 66,
          "metadata": {},
          "output_type": "execute_result"
        }
      ],
      "source": [
        "sys.getsizeof(X_valid)"
      ]
    },
    {
      "cell_type": "code",
      "execution_count": null,
      "metadata": {
        "id": "1nyviqpFgq4b"
      },
      "outputs": [],
      "source": [
        "X_train  = convert_paths_to_normalized_X(paths_train, size)\n",
        "Y_train  = np.array(Y_train)\n",
        "X_test   = convert_paths_to_normalized_X(paths_test, size)\n",
        "Y_test   = np.array(Y_test)"
      ]
    },
    {
      "cell_type": "code",
      "execution_count": null,
      "metadata": {
        "colab": {
          "base_uri": "https://localhost:8080/"
        },
        "id": "u03MS8Q36Pj2",
        "outputId": "f3b29f5a-07f7-439a-bf60-0e694d848ff9"
      },
      "outputs": [
        {
          "name": "stdout",
          "output_type": "stream",
          "text": [
            "(9800, 64, 64, 1)\n",
            "(9800,)\n",
            "(4200, 64, 64, 1)\n",
            "(4200,)\n",
            "(6000, 64, 64, 1)\n",
            "(6000,)\n"
          ]
        }
      ],
      "source": [
        "# check all shapes\n",
        "print(X_train.shape)\n",
        "print(Y_train.shape)\n",
        "print(X_valid.shape)\n",
        "print(Y_valid.shape)\n",
        "print(X_test.shape)\n",
        "print(Y_test.shape)"
      ]
    },
    {
      "cell_type": "markdown",
      "metadata": {
        "id": "_0nFSd3k054H"
      },
      "source": [
        "# First model design"
      ]
    },
    {
      "cell_type": "code",
      "source": [
        "# ~ FUNCTIONS ~\n",
        "\n",
        "# define model function\n",
        "def build_model(first_layer_size, which_pool, n_conv):\n",
        "  model = Sequential()\n",
        "  model.add(Dense(first_layer_size, activation = 'relu',input_shape = X_train.shape[1:]))       # fixed Dense layer\n",
        "\n",
        "  if (which_pool == 'max'):                                                                     # pooling, max or average?\n",
        "    pool_layer = MaxPooling2D(pool_size=(2, 2))\n",
        "  else:\n",
        "    pool_layer = AveragePooling2D(pool_size=(2, 2))\n",
        "\n",
        "  if ( n_conv in [1,2,3] ):                                                                     # add convolution layers \n",
        "    model.add(Conv2D(32, (3, 3)))\n",
        "    model.add(pool_layer)\n",
        "  if ( n_conv in [2,3] ): \n",
        "    model.add(Conv2D(64, (3, 3)))\n",
        "    model.add(pool_layer)\n",
        "  if ( n_conv in [3]) : \n",
        "    model.add(Conv2D(128, (3, 3)))\n",
        "    model.add(pool_layer)\n",
        "\n",
        "  model.add(Flatten())\n",
        "  model.add(Dense(1, activation = 'sigmoid'))                                                   # fixed final classification layer\n",
        "\n",
        "  return model\n",
        "\n",
        "\n",
        "# add f-score to history\n",
        "def add_fscore(history):\n",
        "  fscores     = []\n",
        "  val_fscores = []\n",
        "  for i in range(n_epochs):\n",
        "    for which in ['val_','']:\n",
        "      precision = history[f'{which}precision'][i]\n",
        "      recall = history[f'{which}recall'][i]\n",
        "      fscore =  2 * (precision * recall) / (precision + recall)\n",
        "      if which == '':\n",
        "        fscores.append(fscore)\n",
        "      else:\n",
        "        val_fscores.append(fscore)\n",
        "\n",
        "  history['f-score'] = fscores\n",
        "  history['val_f-score'] = val_fscores\n",
        "  return history\n",
        "\n",
        "\n",
        "# plot selected model's history\n",
        "def plot_history(net_name):\n",
        "  history_ = pickle.load(open('/trainHistoryDict'+ net_name, \"rb\"))\n",
        "  history_ = add_fscore(history_)\n",
        "\n",
        "  f = plt.figure(figsize=(10,6))\n",
        "  ax = f.add_subplot(121)\n",
        "  ax2 = f.add_subplot(122)\n",
        "\n",
        "  # loss\n",
        "  ax.plot(history_['loss'])\n",
        "  ax.plot(history_['val_loss'])\n",
        "  ax.grid(True)\n",
        "  ax.set_title(\"loss\")\n",
        "  ax.legend(['train', 'validation'], loc='upper right')\n",
        "\n",
        "  # f-score\n",
        "  ax2.plot(history_['f-score'])\n",
        "  ax2.plot(history_['val_f-score'])\n",
        "  ax2.grid(True)\n",
        "  ax2.set_title(\"f-score\")\n",
        "  ax2.legend(['train', 'validation'], loc='lower right')\n"
      ],
      "metadata": {
        "id": "6-8Uc6binQcn"
      },
      "execution_count": 46,
      "outputs": []
    },
    {
      "cell_type": "code",
      "source": [
        "# PERFORM GRID SEARCH!\n",
        "\n",
        "first_layer_sizes = [16, 32, 64]\n",
        "which_pools = ['average','max']\n",
        "n_convs = [1,2,3]\n",
        "n_epochs = 1\n",
        "\n",
        "for first_layer_size in first_layer_sizes:\n",
        "  for which_pool in which_pools:\n",
        "      for n_conv in n_convs:\n",
        "\n",
        "        net_name = f'{first_layer_size}_{which_pool}_{n_conv}'\n",
        "\n",
        "        # build model\n",
        "        model = build_model(first_layer_size,which_pool,n_conv)\n",
        "        model.compile(loss='binary_crossentropy', optimizer='adam', metrics=['Precision','Recall'])\n",
        "      \n",
        "        # train it\n",
        "        start = time.time()\n",
        "        history = model.fit(X_train, Y_train, batch_size=32,\n",
        "                            epochs=n_epochs, validation_data=(X_valid,Y_valid))\n",
        "        end = time.time()\n",
        "\n",
        "        # write times to file\n",
        "        filename = 'times.csv'\n",
        "        file_exists = os.path.isfile(filename)\n",
        "\n",
        "        with open(filename, \"a\") as time_f:\n",
        "          writer = csv.DictWriter(time_f, fieldnames=['net','time'])\n",
        "          if not file_exists:\n",
        "            writer.writeheader()\n",
        "          writer.writerow({'net':net_name, 'time':end-start})\n",
        "\n",
        "        # write history to file\n",
        "        with open('/trainHistoryDict' + net_name, 'wb') as history_f:\n",
        "                pickle.dump(history.history, history_f)\n"
      ],
      "metadata": {
        "id": "KrzFCj918x84"
      },
      "execution_count": null,
      "outputs": []
    },
    {
      "cell_type": "code",
      "source": [
        "plot_history(net_name)"
      ],
      "metadata": {
        "colab": {
          "base_uri": "https://localhost:8080/",
          "height": 390
        },
        "id": "oLEFf6yQJICS",
        "outputId": "6d7f0ef9-8756-48ad-b3ac-f21fe7130e3b"
      },
      "execution_count": 95,
      "outputs": [
        {
          "output_type": "display_data",
          "data": {
            "text/plain": [
              "<Figure size 720x432 with 2 Axes>"
            ],
            "image/png": "[encoded data removed]"
          },
          "metadata": {
            "needs_background": "light"
          }
        }
      ]
    },
    {
      "cell_type": "code",
      "source": [
        "3 # PLOT TIME VS LAST val f-score\n",
        "\n",
        "# load df with names and times\n",
        "nets_df = pd.read_csv('times.csv')\n",
        "\n",
        "# access last fscore\n",
        "last_val_fscores  = []\n",
        "for i, name in enumerate(nets_df['net']):\n",
        "    history = pickle.load(open('/trainHistoryDict'+ name, \"rb\"))\n",
        "    history = add_fscore(history)\n",
        "    last_val_fscores.append(history['val_f-score'][n_epochs-1])\n",
        "\n",
        "nets_df['val_f-score'] = last_val_fscores\n",
        "\n",
        "# add size?\n",
        "#nets_df['img_size'] = [s**1.3 for s in [64,32]]\n",
        "\n",
        "\n",
        "# plot!\n",
        "fig, ax = plt.subplots()\n",
        "ax.scatter(nets_df['val_f-score'], nets_df['time'])\n",
        "ax.set_title(\"time VS f-score\")\n",
        "ax.set_xlabel(\"f-score\")\n",
        "ax.set_ylabel(\"elapsed time\")\n",
        "\n",
        "for i, txt in enumerate(nets_df['net']):\n",
        "    ax.annotate(txt, (nets_df['val_f-score'][i], nets_df['time'][i]))\n",
        "\n",
        "plt.savefig('time_vs_fscore.pdf')"
      ],
      "metadata": {
        "colab": {
          "base_uri": "https://localhost:8080/",
          "height": 295
        },
        "id": "_olGNY76N6XQ",
        "outputId": "c2e18a8b-c6c7-4e58-9aed-4f35dd3339b5"
      },
      "execution_count": 117,
      "outputs": [
        {
          "output_type": "display_data",
          "data": {
            "text/plain": [
              "<Figure size 432x288 with 1 Axes>"
            ],
            "image/png": "[encoded data removed]"
          },
          "metadata": {
            "needs_background": "light"
          }
        }
      ]
    }
  ],
  "metadata": {
    "colab": {
      "collapsed_sections": [],
      "name": "ADM_project_new.ipynb",
      "provenance": [],
      "authorship_tag": "ABX9TyPsBIW4Jo/mDHH5PqkxdqRN",
      "include_colab_link": true
    },
    "kernelspec": {
      "display_name": "Python 3",
      "name": "python3"
    },
    "language_info": {
      "name": "python"
    }
  },
  "nbformat": 4,
  "nbformat_minor": 0
}